{
 "cells": [
  {
   "cell_type": "code",
   "execution_count": 14,
   "metadata": {},
   "outputs": [
    {
     "name": "stdout",
     "output_type": "stream",
     "text": [
      "Downloading data from https://storage.googleapis.com/tensorflow/tf-keras-datasets/train-labels-idx1-ubyte.gz\n",
      "32768/29515 [=================================] - 0s 2us/step\n",
      "Downloading data from https://storage.googleapis.com/tensorflow/tf-keras-datasets/train-images-idx3-ubyte.gz\n",
      "26427392/26421880 [==============================] - 12s 0us/step\n",
      "Downloading data from https://storage.googleapis.com/tensorflow/tf-keras-datasets/t10k-labels-idx1-ubyte.gz\n",
      "8192/5148 [===============================================] - 0s 1us/step\n",
      "Downloading data from https://storage.googleapis.com/tensorflow/tf-keras-datasets/t10k-images-idx3-ubyte.gz\n",
      "4423680/4422102 [==============================] - 2s 0us/step\n",
      "WARNING:tensorflow:From /home/swapnil/anaconda3/lib/python3.6/site-packages/tensorflow/python/ops/resource_variable_ops.py:435: colocate_with (from tensorflow.python.framework.ops) is deprecated and will be removed in a future version.\n",
      "Instructions for updating:\n",
      "Colocations handled automatically by placer.\n",
      "WARNING:tensorflow:From /home/swapnil/anaconda3/lib/python3.6/site-packages/tensorflow/python/keras/layers/core.py:143: calling dropout (from tensorflow.python.ops.nn_ops) with keep_prob is deprecated and will be removed in a future version.\n",
      "Instructions for updating:\n",
      "Please use `rate` instead of `keep_prob`. Rate should be set to `rate = 1 - keep_prob`.\n",
      "Epoch 1/10\n",
      "60000/60000 [==============================] - 41s 676us/sample - loss: 0.4930 - acc: 0.8226\n",
      "Epoch 2/10\n",
      "60000/60000 [==============================] - 40s 665us/sample - loss: 0.3841 - acc: 0.8600\n",
      "Epoch 3/10\n",
      "60000/60000 [==============================] - 40s 669us/sample - loss: 0.3492 - acc: 0.8710\n",
      "Epoch 4/10\n",
      "60000/60000 [==============================] - 40s 669us/sample - loss: 0.3297 - acc: 0.8779\n",
      "Epoch 5/10\n",
      "60000/60000 [==============================] - 41s 677us/sample - loss: 0.3102 - acc: 0.8837\n",
      "Epoch 6/10\n",
      "60000/60000 [==============================] - 40s 668us/sample - loss: 0.2975 - acc: 0.8905\n",
      "Epoch 7/10\n",
      "60000/60000 [==============================] - 41s 677us/sample - loss: 0.2892 - acc: 0.8928\n",
      "Epoch 8/10\n",
      "60000/60000 [==============================] - 41s 677us/sample - loss: 0.2768 - acc: 0.8968\n",
      "Epoch 9/10\n",
      "60000/60000 [==============================] - 41s 677us/sample - loss: 0.2691 - acc: 0.8995\n",
      "Epoch 10/10\n",
      "60000/60000 [==============================] - 41s 683us/sample - loss: 0.2585 - acc: 0.9030\n",
      "10000/10000 [==============================] - 1s 129us/sample - loss: 0.3377 - acc: 0.8819\n",
      "[[831   0  27  16   2   0 121   0   3   0]\n",
      " [  1 975   2  17   3   0   2   0   0   0]\n",
      " [ 17   0 794   9 110   0  69   0   1   0]\n",
      " [ 20   6  22 882  36   0  32   0   2   0]\n",
      " [  1   0  74  25 802   0  97   0   1   0]\n",
      " [  0   0   0   1   0 948   0  32   1  18]\n",
      " [115   0 112  25  48   0 698   0   2   0]\n",
      " [  0   0   0   0   0   6   0 981   0  13]\n",
      " [  6   0   8   3   3   0  14   4 962   0]\n",
      " [  1   0   0   1   0   4   0  48   0 946]]\n",
      "             precision    recall  f1-score   support\n",
      "\n",
      "          0       0.84      0.83      0.83      1000\n",
      "          1       0.99      0.97      0.98      1000\n",
      "          2       0.76      0.79      0.78      1000\n",
      "          3       0.90      0.88      0.89      1000\n",
      "          4       0.80      0.80      0.80      1000\n",
      "          5       0.99      0.95      0.97      1000\n",
      "          6       0.68      0.70      0.69      1000\n",
      "          7       0.92      0.98      0.95      1000\n",
      "          8       0.99      0.96      0.98      1000\n",
      "          9       0.97      0.95      0.96      1000\n",
      "\n",
      "avg / total       0.88      0.88      0.88     10000\n",
      "\n"
     ]
    }
   ],
   "source": [
    "import tensorflow as tf\n",
    "\n",
    "mnist = tf.keras.datasets.fashion_mnist\n",
    "(train_images,train_labels),(test_images,test_labels) = mnist.load_data()\n",
    "train_images,test_images = train_images/255.0, test_images/255.0\n",
    "model = tf.keras.models.Sequential([\n",
    "  tf.keras.layers.Flatten(input_shape=(28, 28)),\n",
    "  tf.keras.layers.Dense(1000, activation='relu'),\n",
    "  tf.keras.layers.Dropout(0.2),\n",
    "  tf.keras.layers.Dense(10, activation='softmax')\n",
    "])\n",
    "model.compile(optimizer='adam',\n",
    "              loss='sparse_categorical_crossentropy',\n",
    "              metrics=['accuracy'])\n",
    "\n",
    "result = model.fit(train_images,train_labels,epochs=10)\n",
    "model.evaluate(test_images,test_labels)\n",
    "\n",
    "test_predictions = model.predict_classes(test_images)\n",
    "from sklearn.metrics import confusion_matrix, classification_report\n",
    "cm = confusion_matrix(y_true = test_labels, y_pred = test_predictions)\n",
    "print(cm)\n",
    "report = classification_report(y_true = test_labels, y_pred = test_predictions)\n",
    "print(report)"
   ]
  },
  {
   "cell_type": "code",
   "execution_count": 15,
   "metadata": {},
   "outputs": [
    {
     "name": "stdout",
     "output_type": "stream",
     "text": [
      "Digits:  0 1 2 3 4 5 6 7 8 9\n",
      "labels: [0 1 2 3 4 5 6 7 8 9]\n",
      "Class distribution: [6000 6000 6000 6000 6000 6000 6000 6000 6000 6000]\n",
      "Digits:  0 1 2 3 4 5 6 7 8 9\n",
      "labels: [0 1 2 3 4 5 6 7 8 9]\n",
      "Class distribution: [1000 1000 1000 1000 1000 1000 1000 1000 1000 1000]\n"
     ]
    }
   ],
   "source": [
    "import numpy as np\n",
    "\n",
    "print('Digits:  0 1 2 3 4 5 6 7 8 9')\n",
    "print('labels: %s' % np.unique(train_labels))\n",
    "print('Class distribution: %s' % np.bincount(train_labels))\n",
    "\n",
    "print('Digits:  0 1 2 3 4 5 6 7 8 9')\n",
    "print('labels: %s' % np.unique(test_labels))\n",
    "print('Class distribution: %s' % np.bincount(test_labels))"
   ]
  },
  {
   "cell_type": "code",
   "execution_count": 16,
   "metadata": {},
   "outputs": [
    {
     "name": "stdout",
     "output_type": "stream",
     "text": [
      "Dimension: 60000 X 28\n"
     ]
    }
   ],
   "source": [
    "print('Dimension: %s X %s' % (train_images.shape[0],train_images.shape[1]))"
   ]
  },
  {
   "cell_type": "code",
   "execution_count": 18,
   "metadata": {},
   "outputs": [],
   "source": [
    "import numpy as np\n",
    "import matplotlib.pyplot as plt\n"
   ]
  },
  {
   "cell_type": "code",
   "execution_count": 19,
   "metadata": {},
   "outputs": [
    {
     "data": {
      "image/png": "[encoded data removed]",
      "text/plain": [
       "<Figure size 432x288 with 2 Axes>"
      ]
     },
     "metadata": {},
     "output_type": "display_data"
    }
   ],
   "source": [
    "plt.figure()\n",
    "plt.imshow(train_images[0])\n",
    "plt.colorbar()\n",
    "plt.grid(False)\n",
    "plt.show()\n"
   ]
  },
  {
   "cell_type": "code",
   "execution_count": 21,
   "metadata": {},
   "outputs": [
    {
     "data": {
      "text/plain": [
       "9"
      ]
     },
     "execution_count": 21,
     "metadata": {},
     "output_type": "execute_result"
    }
   ],
   "source": [
    "test_labels[0]\n"
   ]
  },
  {
   "cell_type": "code",
   "execution_count": 26,
   "metadata": {},
   "outputs": [
    {
     "data": {
      "image/png": "[encoded data removed]",
      "text/plain": [
       "<Figure size 432x288 with 2 Axes>"
      ]
     },
     "metadata": {},
     "output_type": "display_data"
    }
   ],
   "source": [
    "plt.figure()\n",
    "plt.imshow(train_images[1])\n",
    "plt.colorbar()\n",
    "plt.grid(False)\n",
    "plt.show()"
   ]
  },
  {
   "cell_type": "code",
   "execution_count": 27,
   "metadata": {},
   "outputs": [
    {
     "data": {
      "image/png": "[encoded data removed]",
      "text/plain": [
       "<Figure size 432x288 with 2 Axes>"
      ]
     },
     "metadata": {},
     "output_type": "display_data"
    }
   ],
   "source": [
    "plt.figure()\n",
    "plt.imshow(train_images[2])\n",
    "plt.colorbar()\n",
    "plt.grid(False)\n",
    "plt.show()"
   ]
  },
  {
   "cell_type": "code",
   "execution_count": 28,
   "metadata": {},
   "outputs": [
    {
     "data": {
      "image/png": "[encoded data removed]",
      "text/plain": [
       "<Figure size 432x288 with 2 Axes>"
      ]
     },
     "metadata": {},
     "output_type": "display_data"
    }
   ],
   "source": [
    "plt.figure()\n",
    "plt.imshow(train_images[3])\n",
    "plt.colorbar()\n",
    "plt.grid(False)\n",
    "plt.show()"
   ]
  },
  {
   "cell_type": "code",
   "execution_count": null,
   "metadata": {},
   "outputs": [],
   "source": []
  }
 ],
 "metadata": {
  "kernelspec": {
   "display_name": "Python 3",
   "language": "python",
   "name": "python3"
  },
  "language_info": {
   "codemirror_mode": {
    "name": "ipython",
    "version": 3
   },
   "file_extension": ".py",
   "mimetype": "text/x-python",
   "name": "python",
   "nbconvert_exporter": "python",
   "pygments_lexer": "ipython3",
   "version": "3.6.5"
  }
 },
 "nbformat": 4,
 "nbformat_minor": 2
}
